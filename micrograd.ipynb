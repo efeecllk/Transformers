{
  "nbformat": 4,
  "nbformat_minor": 0,
  "metadata": {
    "colab": {
      "provenance": [],
      "authorship_tag": "ABX9TyMxps/ZDIQLM8R4yitPDXxc",
      "include_colab_link": true
    },
    "kernelspec": {
      "name": "python3",
      "display_name": "Python 3"
    },
    "language_info": {
      "name": "python"
    }
  },
  "cells": [
    {
      "cell_type": "markdown",
      "metadata": {
        "id": "view-in-github",
        "colab_type": "text"
      },
      "source": [
        "<a href=\"https://colab.research.google.com/github/efeecllk/Transformers/blob/main/micrograd.ipynb\" target=\"_parent\"><img src=\"https://colab.research.google.com/assets/colab-badge.svg\" alt=\"Open In Colab\"/></a>"
      ]
    },
    {
      "cell_type": "code",
      "execution_count": 1,
      "metadata": {
        "id": "DpQSAC9IiPyA"
      },
      "outputs": [],
      "source": [
        "import math\n",
        "import numpy as np\n",
        "import matplotlib.pyplot as plt\n",
        "%matplotlib inline\n"
      ]
    },
    {
      "cell_type": "code",
      "source": [
        "def f(x):\n",
        "  return 3*x**2 + 5*x + 4"
      ],
      "metadata": {
        "id": "vHk29T0hi8_r"
      },
      "execution_count": 2,
      "outputs": []
    },
    {
      "cell_type": "code",
      "source": [
        "f(2.0)"
      ],
      "metadata": {
        "colab": {
          "base_uri": "https://localhost:8080/"
        },
        "id": "PUjMtbDdjGVT",
        "outputId": "56038cd3-e83e-4c2a-8175-44b6891d2a60"
      },
      "execution_count": 3,
      "outputs": [
        {
          "output_type": "execute_result",
          "data": {
            "text/plain": [
              "26.0"
            ]
          },
          "metadata": {},
          "execution_count": 3
        }
      ]
    },
    {
      "cell_type": "code",
      "source": [
        "xs = np.arange(-5,5,0.40)\n",
        "xs"
      ],
      "metadata": {
        "colab": {
          "base_uri": "https://localhost:8080/"
        },
        "id": "W9pTH0cDjNqH",
        "outputId": "7f628b32-4402-4054-e77f-a2163573bf5c"
      },
      "execution_count": 4,
      "outputs": [
        {
          "output_type": "execute_result",
          "data": {
            "text/plain": [
              "array([-5. , -4.6, -4.2, -3.8, -3.4, -3. , -2.6, -2.2, -1.8, -1.4, -1. ,\n",
              "       -0.6, -0.2,  0.2,  0.6,  1. ,  1.4,  1.8,  2.2,  2.6,  3. ,  3.4,\n",
              "        3.8,  4.2,  4.6])"
            ]
          },
          "metadata": {},
          "execution_count": 4
        }
      ]
    },
    {
      "cell_type": "code",
      "source": [
        "ys = f(xs)\n",
        "ys"
      ],
      "metadata": {
        "colab": {
          "base_uri": "https://localhost:8080/"
        },
        "id": "8oFy5LFUjVAI",
        "outputId": "1aaeeea0-97e5-4599-fbd9-6244c4a93266"
      },
      "execution_count": 5,
      "outputs": [
        {
          "output_type": "execute_result",
          "data": {
            "text/plain": [
              "array([54.  , 44.48, 35.92, 28.32, 21.68, 16.  , 11.28,  7.52,  4.72,\n",
              "        2.88,  2.  ,  2.08,  3.12,  5.12,  8.08, 12.  , 16.88, 22.72,\n",
              "       29.52, 37.28, 46.  , 55.68, 66.32, 77.92, 90.48])"
            ]
          },
          "metadata": {},
          "execution_count": 5
        }
      ]
    },
    {
      "cell_type": "code",
      "source": [
        "plt.plot(xs,ys)\n"
      ],
      "metadata": {
        "colab": {
          "base_uri": "https://localhost:8080/",
          "height": 447
        },
        "id": "moZ3tasJjrBe",
        "outputId": "2db1e525-14db-496a-e00c-94292cdef278"
      },
      "execution_count": 6,
      "outputs": [
        {
          "output_type": "execute_result",
          "data": {
            "text/plain": [
              "[<matplotlib.lines.Line2D at 0x7d9659ed8880>]"
            ]
          },
          "metadata": {},
          "execution_count": 6
        },
        {
          "output_type": "display_data",
          "data": {
            "text/plain": [
              "<Figure size 640x480 with 1 Axes>"
            ],
            "image/png": "[encoded data removed]"
          },
          "metadata": {}
        }
      ]
    },
    {
      "cell_type": "code",
      "source": [
        "class Value:\n",
        "  def __init__(self, data, _children=(), _op=''):\n",
        "    self.data = data\n",
        "    self._prev = set(_children)\n",
        "    self._op= _op\n",
        "\n",
        "  def __repr__(self):\n",
        "    return f\"Value(data={self.data})\"\n",
        "\n",
        "  def __add__(self,other):\n",
        "    out = Value(self.data + other.data, (self,other), '+')\n",
        "    return out\n",
        "\n",
        "  def __mul__(self,other):\n",
        "    out = Value(self.data * other.data,(self,other), '*')\n",
        "    return out\n",
        "\n",
        "a = Value(2.0)\n",
        "b= Value(3.0)\n",
        "c= Value(-4.0)\n",
        "# a+b\n",
        "# b.__add__(a)\n",
        "\n",
        "d= a*b+c\n",
        "# (a.__mul__(b)).__add__(c)\n",
        "\n",
        "d"
      ],
      "metadata": {
        "colab": {
          "base_uri": "https://localhost:8080/"
        },
        "id": "WaKSljpxtDFv",
        "outputId": "9da23457-82c3-4ab5-9235-57742ce36bbc"
      },
      "execution_count": 7,
      "outputs": [
        {
          "output_type": "execute_result",
          "data": {
            "text/plain": [
              "Value(data=2.0)"
            ]
          },
          "metadata": {},
          "execution_count": 7
        }
      ]
    },
    {
      "cell_type": "code",
      "source": [
        "d._prev"
      ],
      "metadata": {
        "colab": {
          "base_uri": "https://localhost:8080/"
        },
        "id": "Wk438zPi1OcP",
        "outputId": "56d2a1e2-4668-4d68-b340-64ecde43baac"
      },
      "execution_count": 8,
      "outputs": [
        {
          "output_type": "execute_result",
          "data": {
            "text/plain": [
              "{Value(data=-4.0), Value(data=6.0)}"
            ]
          },
          "metadata": {},
          "execution_count": 8
        }
      ]
    },
    {
      "cell_type": "code",
      "source": [
        "d._op"
      ],
      "metadata": {
        "colab": {
          "base_uri": "https://localhost:8080/",
          "height": 35
        },
        "id": "pKVjNbP_tC9p",
        "outputId": "e183ff70-acec-4d98-a88c-1bf6a417d341"
      },
      "execution_count": 9,
      "outputs": [
        {
          "output_type": "execute_result",
          "data": {
            "text/plain": [
              "'+'"
            ],
            "application/vnd.google.colaboratory.intrinsic+json": {
              "type": "string"
            }
          },
          "metadata": {},
          "execution_count": 9
        }
      ]
    },
    {
      "cell_type": "code",
      "source": [
        "#Visualize the Value and children\n",
        "from graphviz import Digraph\n",
        "\n",
        "def trace(root):\n",
        "  nodes, edges = set(), set()\n",
        "  def build(v):\n",
        "    if v not in nodes:\n",
        "      nodes.add(v)\n",
        "      for child in v._prev:\n",
        "        edges.add((child,v))\n",
        "        build(child)\n",
        "\n",
        "  build(root)\n",
        "  return nodes, edges\n",
        "\n",
        "def draw_dot(root):\n",
        "  dot = Digraph(format='svg', graph_attr={'rankdir': 'LR'})\n",
        "  nodes, edges = trace(root)\n",
        "  for n in nodes:\n",
        "    uid = str(id(n))\n",
        "    dot.node(name=uid, label=\"{ data %.4f }\" % (n.data, ), shape='record')\n",
        "\n",
        "    if n._op:\n",
        "      dot.node(name=uid + n._op, label=n._op)\n",
        "      dot.edge(uid + n._op, uid)\n",
        "\n",
        "\n",
        "  for n1, n2 in edges:\n",
        "\n",
        "        dot.edge(str(id(n1)), str(id(n2)) + n2._op)\n",
        "\n",
        "  return dot"
      ],
      "metadata": {
        "id": "GLsU5OXUFDb2"
      },
      "execution_count": 14,
      "outputs": []
    },
    {
      "cell_type": "code",
      "source": [
        "draw_dot(d)\n"
      ],
      "metadata": {
        "colab": {
          "base_uri": "https://localhost:8080/",
          "height": 190
        },
        "id": "DSUbJp7yFXbF",
        "outputId": "7af5ab25-7f54-475f-f45a-a26fa44e5f49"
      },
      "execution_count": 15,
      "outputs": [
        {
          "output_type": "execute_result",
          "data": {
            "image/svg+xml": "<?xml version=\"1.0\" encoding=\"UTF-8\" standalone=\"no\"?>\n<!DOCTYPE svg PUBLIC \"-//W3C//DTD SVG 1.1//EN\"\n \"http://www.w3.org/Graphics/SVG/1.1/DTD/svg11.dtd\">\n<!-- Generated by graphviz version 2.43.0 (0)\n -->\n<!-- Title: %3 Pages: 1 -->\n<svg width=\"505pt\" height=\"127pt\"\n viewBox=\"0.00 0.00 505.00 127.00\" xmlns=\"http://www.w3.org/2000/svg\" xmlns:xlink=\"http://www.w3.org/1999/xlink\">\n<g id=\"graph0\" class=\"graph\" transform=\"scale(1 1) rotate(0) translate(4 123)\">\n<title>%3</title>\n<polygon fill=\"white\" stroke=\"transparent\" points=\"-4,4 -4,-123 501,-123 501,4 -4,4\"/>\n<!-- 138084707548752 -->\n<g id=\"node1\" class=\"node\">\n<title>138084707548752</title>\n<polygon fill=\"none\" stroke=\"black\" points=\"417,-54.5 417,-90.5 497,-90.5 497,-54.5 417,-54.5\"/>\n<text text-anchor=\"middle\" x=\"457\" y=\"-68.8\" font-family=\"Times,serif\" font-size=\"14.00\">data 2.0000</text>\n</g>\n<!-- 138084707548752+ -->\n<g id=\"node2\" class=\"node\">\n<title>138084707548752+</title>\n<ellipse fill=\"none\" stroke=\"black\" cx=\"354\" cy=\"-72.5\" rx=\"27\" ry=\"18\"/>\n<text text-anchor=\"middle\" x=\"354\" y=\"-68.8\" font-family=\"Times,serif\" font-size=\"14.00\">+</text>\n</g>\n<!-- 138084707548752+&#45;&gt;138084707548752 -->\n<g id=\"edge1\" class=\"edge\">\n<title>138084707548752+&#45;&gt;138084707548752</title>\n<path fill=\"none\" stroke=\"black\" d=\"M381.01,-72.5C388.82,-72.5 397.67,-72.5 406.48,-72.5\"/>\n<polygon fill=\"black\" stroke=\"black\" points=\"406.73,-76 416.73,-72.5 406.73,-69 406.73,-76\"/>\n</g>\n<!-- 138084707545344 -->\n<g id=\"node3\" class=\"node\">\n<title>138084707545344</title>\n<polygon fill=\"none\" stroke=\"black\" points=\"0,-55.5 0,-91.5 80,-91.5 80,-55.5 0,-55.5\"/>\n<text text-anchor=\"middle\" x=\"40\" y=\"-69.8\" font-family=\"Times,serif\" font-size=\"14.00\">data 3.0000</text>\n</g>\n<!-- 138084707542944* -->\n<g id=\"node7\" class=\"node\">\n<title>138084707542944*</title>\n<ellipse fill=\"none\" stroke=\"black\" cx=\"143\" cy=\"-45.5\" rx=\"27\" ry=\"18\"/>\n<text text-anchor=\"middle\" x=\"143\" y=\"-41.8\" font-family=\"Times,serif\" font-size=\"14.00\">*</text>\n</g>\n<!-- 138084707545344&#45;&gt;138084707542944* -->\n<g id=\"edge6\" class=\"edge\">\n<title>138084707545344&#45;&gt;138084707542944*</title>\n<path fill=\"none\" stroke=\"black\" d=\"M80.05,-62.67C89.24,-60.13 98.98,-57.43 107.93,-54.94\"/>\n<polygon fill=\"black\" stroke=\"black\" points=\"108.94,-58.3 117.65,-52.25 107.07,-51.55 108.94,-58.3\"/>\n</g>\n<!-- 138084705431376 -->\n<g id=\"node4\" class=\"node\">\n<title>138084705431376</title>\n<polygon fill=\"none\" stroke=\"black\" points=\"0,-0.5 0,-36.5 80,-36.5 80,-0.5 0,-0.5\"/>\n<text text-anchor=\"middle\" x=\"40\" y=\"-14.8\" font-family=\"Times,serif\" font-size=\"14.00\">data 2.0000</text>\n</g>\n<!-- 138084705431376&#45;&gt;138084707542944* -->\n<g id=\"edge5\" class=\"edge\">\n<title>138084705431376&#45;&gt;138084707542944*</title>\n<path fill=\"none\" stroke=\"black\" d=\"M80.05,-28.94C89.24,-31.4 98.98,-34 107.93,-36.39\"/>\n<polygon fill=\"black\" stroke=\"black\" points=\"107.08,-39.79 117.65,-38.99 108.89,-33.03 107.08,-39.79\"/>\n</g>\n<!-- 138084707547504 -->\n<g id=\"node5\" class=\"node\">\n<title>138084707547504</title>\n<polygon fill=\"none\" stroke=\"black\" points=\"206,-82.5 206,-118.5 291,-118.5 291,-82.5 206,-82.5\"/>\n<text text-anchor=\"middle\" x=\"248.5\" y=\"-96.8\" font-family=\"Times,serif\" font-size=\"14.00\">data &#45;4.0000</text>\n</g>\n<!-- 138084707547504&#45;&gt;138084707548752+ -->\n<g id=\"edge4\" class=\"edge\">\n<title>138084707547504&#45;&gt;138084707548752+</title>\n<path fill=\"none\" stroke=\"black\" d=\"M291,-89.27C300.32,-86.75 310.1,-84.11 319.06,-81.68\"/>\n<polygon fill=\"black\" stroke=\"black\" points=\"320.03,-85.04 328.77,-79.05 318.2,-78.29 320.03,-85.04\"/>\n</g>\n<!-- 138084707542944 -->\n<g id=\"node6\" class=\"node\">\n<title>138084707542944</title>\n<polygon fill=\"none\" stroke=\"black\" points=\"208.5,-27.5 208.5,-63.5 288.5,-63.5 288.5,-27.5 208.5,-27.5\"/>\n<text text-anchor=\"middle\" x=\"248.5\" y=\"-41.8\" font-family=\"Times,serif\" font-size=\"14.00\">data 6.0000</text>\n</g>\n<!-- 138084707542944&#45;&gt;138084707548752+ -->\n<g id=\"edge3\" class=\"edge\">\n<title>138084707542944&#45;&gt;138084707548752+</title>\n<path fill=\"none\" stroke=\"black\" d=\"M288.63,-55.71C298.47,-58.27 308.95,-61.01 318.54,-63.51\"/>\n<polygon fill=\"black\" stroke=\"black\" points=\"317.96,-66.98 328.52,-66.11 319.73,-60.2 317.96,-66.98\"/>\n</g>\n<!-- 138084707542944*&#45;&gt;138084707542944 -->\n<g id=\"edge2\" class=\"edge\">\n<title>138084707542944*&#45;&gt;138084707542944</title>\n<path fill=\"none\" stroke=\"black\" d=\"M170.12,-45.5C178.74,-45.5 188.63,-45.5 198.4,-45.5\"/>\n<polygon fill=\"black\" stroke=\"black\" points=\"198.47,-49 208.47,-45.5 198.47,-42 198.47,-49\"/>\n</g>\n</g>\n</svg>\n",
            "text/plain": [
              "<graphviz.graphs.Digraph at 0x7d9659f13580>"
            ]
          },
          "metadata": {},
          "execution_count": 15
        }
      ]
    }
  ]
}